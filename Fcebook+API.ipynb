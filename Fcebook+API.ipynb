{
 "cells": [
  {
   "cell_type": "code",
   "execution_count": null,
   "metadata": {
    "collapsed": true
   },
   "outputs": [],
   "source": [
    "Token = EAAohffwevloBAEwGklp1mtlDB3WXurvwaUxO86t55ErYfxo1Qftc8IzRQSnD7IzvBavGPlOKFR4j31ZBOMdfAqJ41YZAqldZAQ4mcwJ4x6RPYClhfmV7YndK95We02CMennZAhegZCj3075uiRm9a6cKP5sWQGZCkm86qIvyWEiZCzakd8qX5ByCr1yQBBi8ucZD"
   ]
  },
  {
   "cell_type": "code",
   "execution_count": 14,
   "metadata": {},
   "outputs": [
    {
     "name": "stdout",
     "output_type": "stream",
     "text": [
      "Collecting python-facebook-api\n",
      "  Downloading https://files.pythonhosted.org/packages/27/df/613021eccc91c32f75bb5ec5689698c299e1bbabfb6e3e9bf9e6c0d36232/python_facebook_api-0.6.1-py2.py3-none-any.whl (42kB)\n",
      "Requirement already up-to-date: requests in c:\\users\\kishi\\anaconda\\lib\\site-packages (from python-facebook-api)\n",
      "Collecting six (from python-facebook-api)\n",
      "  Downloading https://files.pythonhosted.org/packages/ee/ff/48bde5c0f013094d729fe4b0316ba2a24774b3ff1c52d924a8a4cb04078a/six-1.15.0-py2.py3-none-any.whl\n",
      "Collecting future (from python-facebook-api)\n",
      "  Downloading https://files.pythonhosted.org/packages/45/0b/38b06fd9b92dc2b68d58b75f900e97884c45bedd2ff83203d933cf5851c9/future-0.18.2.tar.gz (829kB)\n",
      "Requirement already up-to-date: requests-oauthlib in c:\\users\\kishi\\anaconda\\lib\\site-packages (from python-facebook-api)\n",
      "Collecting typing (from python-facebook-api)\n",
      "  Downloading https://files.pythonhosted.org/packages/fe/2e/b480ee1b75e6d17d2993738670e75c1feeb9ff7f64452153cf018051cc92/typing-3.7.4.1-py3-none-any.whl\n",
      "Collecting attrs (from python-facebook-api)\n",
      "  Downloading https://files.pythonhosted.org/packages/a2/db/4313ab3be961f7a763066401fb77f7748373b6094076ae2bda2806988af6/attrs-19.3.0-py2.py3-none-any.whl\n",
      "Collecting cattrs (from python-facebook-api)\n",
      "  Downloading https://files.pythonhosted.org/packages/17/5b/6afbdaeb066ecf8ca28d85851048103ac80bb169491a54a14bd39823c422/cattrs-1.0.0-py2.py3-none-any.whl\n",
      "Requirement already up-to-date: idna<3,>=2.5 in c:\\users\\kishi\\anaconda\\lib\\site-packages (from requests->python-facebook-api)\n",
      "Requirement already up-to-date: chardet<4,>=3.0.2 in c:\\users\\kishi\\anaconda\\lib\\site-packages (from requests->python-facebook-api)\n",
      "Requirement already up-to-date: urllib3!=1.25.0,!=1.25.1,<1.26,>=1.21.1 in c:\\users\\kishi\\anaconda\\lib\\site-packages (from requests->python-facebook-api)\n",
      "Requirement already up-to-date: certifi>=2017.4.17 in c:\\users\\kishi\\anaconda\\lib\\site-packages (from requests->python-facebook-api)\n",
      "Requirement already up-to-date: oauthlib>=3.0.0 in c:\\users\\kishi\\anaconda\\lib\\site-packages (from requests-oauthlib->python-facebook-api)\n",
      "Building wheels for collected packages: future\n",
      "  Running setup.py bdist_wheel for future: started\n",
      "  Running setup.py bdist_wheel for future: finished with status 'done'\n",
      "  Stored in directory: C:\\Users\\kishi\\AppData\\Local\\pip\\Cache\\wheels\\8b\\99\\a0\\81daf51dcd359a9377b110a8a886b3895921802d2fc1b2397e\n",
      "Successfully built future\n",
      "Installing collected packages: six, future, typing, attrs, cattrs, python-facebook-api\n",
      "  Found existing installation: six 1.11.0\n",
      "    Uninstalling six-1.11.0:\n",
      "      Successfully uninstalled six-1.11.0\n",
      "  Found existing installation: typing 3.6.2\n",
      "    Uninstalling typing-3.6.2:\n",
      "      Successfully uninstalled typing-3.6.2\n",
      "Successfully installed attrs-19.3.0 cattrs-1.0.0 future-0.18.2 python-facebook-api-0.6.1 six-1.15.0 typing-3.7.4.1\n"
     ]
    },
    {
     "name": "stderr",
     "output_type": "stream",
     "text": [
      "You are using pip version 9.0.1, however version 20.1.1 is available.\n",
      "You should consider upgrading via the 'python -m pip install --upgrade pip' command.\n"
     ]
    }
   ],
   "source": [
    "!pip install --upgrade python-facebook-api"
   ]
  },
  {
   "cell_type": "code",
   "execution_count": 17,
   "metadata": {},
   "outputs": [
    {
     "name": "stdout",
     "output_type": "stream",
     "text": [
      "Collecting facebook-sdk\n",
      "  Downloading https://files.pythonhosted.org/packages/79/d7/4cb0f5930f79205cc45db22e17fa716396d813c3d6b8d5de77783a5fa59a/facebook_sdk-3.1.0-py2.py3-none-any.whl\n",
      "Requirement already satisfied: requests in c:\\users\\kishi\\anaconda\\lib\\site-packages (from facebook-sdk)\n",
      "Requirement already satisfied: certifi>=2017.4.17 in c:\\users\\kishi\\anaconda\\lib\\site-packages (from requests->facebook-sdk)\n",
      "Requirement already satisfied: chardet<4,>=3.0.2 in c:\\users\\kishi\\anaconda\\lib\\site-packages (from requests->facebook-sdk)\n",
      "Requirement already satisfied: idna<3,>=2.5 in c:\\users\\kishi\\anaconda\\lib\\site-packages (from requests->facebook-sdk)\n",
      "Requirement already satisfied: urllib3!=1.25.0,!=1.25.1,<1.26,>=1.21.1 in c:\\users\\kishi\\anaconda\\lib\\site-packages (from requests->facebook-sdk)\n",
      "Installing collected packages: facebook-sdk\n",
      "Successfully installed facebook-sdk-3.1.0\n"
     ]
    },
    {
     "name": "stderr",
     "output_type": "stream",
     "text": [
      "You are using pip version 9.0.1, however version 20.1.1 is available.\n",
      "You should consider upgrading via the 'python -m pip install --upgrade pip' command.\n"
     ]
    }
   ],
   "source": [
    "!pip install facebook-sdk"
   ]
  },
  {
   "cell_type": "code",
   "execution_count": 19,
   "metadata": {},
   "outputs": [],
   "source": [
    "import json"
   ]
  },
  {
   "cell_type": "code",
   "execution_count": 20,
   "metadata": {
    "collapsed": true
   },
   "outputs": [],
   "source": [
    "import facebook"
   ]
  },
  {
   "cell_type": "code",
   "execution_count": 27,
   "metadata": {},
   "outputs": [],
   "source": [
    "def main():\n",
    "    token = ('EAAohffwevloBAGviMN0tkjzTfpsUq7rWK7OlMf1stWocciNCEwOQE9Cuo9m4iUxIyMEAkM2kM4aGqMBzhTQDUClMeY01XylpMeFKFlNssIZBGu81hMJmh2w1JAEjU4GfxwyeHoWDc9mvg7WZBSU1b1sHH5uoAZAtfjnGTcTHQASYmfk3NboZCZCh8kkfAg4wgcbGqYcSuPcyGjNL2y0X0NdxqzKLSdRcZD')\n",
    "    graph=facebook.GraphAPI(token)\n",
    "    fields=['birthday,hometown, name']\n",
    "    profile=graph.get_object('me', fields=fields)\n",
    "    print(json.dumps(profile, indent=4))\n",
    "    "
   ]
  },
  {
   "cell_type": "code",
   "execution_count": 29,
   "metadata": {},
   "outputs": [
    {
     "name": "stdout",
     "output_type": "stream",
     "text": [
      "{\n",
      "    \"birthday\": \"06/18/1994\",\n",
      "    \"hometown\": {\n",
      "        \"id\": \"107923222563053\",\n",
      "        \"name\": \"Wuxi\"\n",
      "    },\n",
      "    \"name\": \"Kishi Zhou\",\n",
      "    \"id\": \"2596445707279383\"\n",
      "}\n"
     ]
    }
   ],
   "source": [
    "main()  #my own page"
   ]
  },
  {
   "cell_type": "markdown",
   "metadata": {},
   "source": [
    "Yasssssssssssssss"
   ]
  },
  {
   "cell_type": "code",
   "execution_count": 35,
   "metadata": {
    "collapsed": true
   },
   "outputs": [],
   "source": [
    "def mainp():\n",
    "    token1 = ('EAAohffwevloBABsVYOXdzpDlyeFX2qWm3XZCy9ZAkcRzaveQLG1nLcjEKbn5MSBgmwCizcLDzZBXnGG7SLJIS04ZB3UWaZAj2KBUqaIFmTw3qDeXdv1dtuyAVBmlIMZAZCZBZApSiDzl04CgZBKpZBdlhOLmgm3FsgdAaFNhrCgIum1Jg6DKfuLgN5BcGBP7Bqbv5OYkhOgKgZCmRTP4WzNqbwV3')\n",
    "    graph=facebook.GraphAPI(token1)\n",
    "    fields=['about, name, location']\n",
    "    page=graph.get_object('dailyandhomesocks',fields=fields)\n",
    "    print(json.dumps(page, indent=4))"
   ]
  },
  {
   "cell_type": "code",
   "execution_count": 38,
   "metadata": {},
   "outputs": [
    {
     "name": "stdout",
     "output_type": "stream",
     "text": [
      "{\n",
      "    \"about\": \"We are a Vancouver based socks company\",\n",
      "    \"name\": \"Socky Socky\",\n",
      "    \"location\": {\n",
      "        \"city\": \"Vancouver\",\n",
      "        \"country\": \"Canada\",\n",
      "        \"latitude\": 49.21167,\n",
      "        \"longitude\": -123.11777,\n",
      "        \"state\": \"BC\"\n",
      "    },\n",
      "    \"id\": \"101532511526371\"\n",
      "}\n"
     ]
    }
   ],
   "source": [
    "##if__name__==\"__mainp\":\n",
    "mainp()"
   ]
  }
 ],
 "metadata": {
  "kernelspec": {
   "display_name": "Python 3",
   "language": "python",
   "name": "python3"
  },
  "language_info": {
   "codemirror_mode": {
    "name": "ipython",
    "version": 3
   },
   "file_extension": ".py",
   "mimetype": "text/x-python",
   "name": "python",
   "nbconvert_exporter": "python",
   "pygments_lexer": "ipython3",
   "version": "3.6.2"
  }
 },
 "nbformat": 4,
 "nbformat_minor": 2
}
